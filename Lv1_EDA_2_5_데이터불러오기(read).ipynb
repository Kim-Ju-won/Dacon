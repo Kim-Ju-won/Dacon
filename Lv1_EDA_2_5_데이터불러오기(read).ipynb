{
  "nbformat": 4,
  "nbformat_minor": 0,
  "metadata": {
    "colab": {
      "name": "Lv1_EDA_2/5_데이터불러오기(read).ipynb",
      "provenance": [],
      "collapsed_sections": [
        "YLKidTge4gsx"
      ]
    },
    "kernelspec": {
      "name": "python3",
      "display_name": "Python 3"
    },
    "language_info": {
      "name": "python"
    }
  },
  "cells": [
    {
      "cell_type": "markdown",
      "metadata": {
        "id": "vIpjpOEXsoW0"
      },
      "source": [
        "# [↩️ 리스트로 돌아가기](https://dacon.io/competitions/open/235698/overview/description)"
      ]
    },
    {
      "cell_type": "markdown",
      "metadata": {
        "id": "Y8EsppNShcez"
      },
      "source": [
        "# 셀을 실행할 때 팝업이 뜨면 `무시하고 계속하기` 를 눌러주세요\n"
      ]
    },
    {
      "cell_type": "markdown",
      "metadata": {
        "id": "FqodyLxg4RLu"
      },
      "source": [
        "## 데이터 다운로드\n",
        "--- \n",
        "아래 셀을 실행시켜 데이터를 colab에 불러옵니다.  \n",
        "셀 실행은 <br>Windows: `Ctrl` + `Enter`<br>\n",
        "Mac: `Shift` + `Enter` <br>\n",
        "를 이용해 실행 시킬 수 있습니다. "
      ]
    },
    {
      "cell_type": "code",
      "metadata": {
        "id": "by55dpRPfTwZ",
        "outputId": "7ce23045-aab8-4dc3-ae73-34f9c1050726",
        "colab": {
          "base_uri": "https://localhost:8080/"
        }
      },
      "source": [
        "# 데이터 다운로드 링크로 데이터를 코랩에 불러옵니다.\n",
        "\n",
        "!wget 'https://bit.ly/3gLj0Q6'\n",
        "\n",
        "import zipfile\n",
        "with zipfile.ZipFile('3gLj0Q6', 'r') as existing_zip:\n",
        "    existing_zip.extractall('data')"
      ],
      "execution_count": 1,
      "outputs": [
        {
          "output_type": "stream",
          "name": "stdout",
          "text": [
            "--2021-12-29 08:08:27--  https://bit.ly/3gLj0Q6\n",
            "Resolving bit.ly (bit.ly)... 67.199.248.11, 67.199.248.10\n",
            "Connecting to bit.ly (bit.ly)|67.199.248.11|:443... connected.\n",
            "HTTP request sent, awaiting response... 301 Moved Permanently\n",
            "Location: https://drive.google.com/uc?export=download&id=1or_QN1ksv81DNog6Tu_kWcZ5jJWf5W9E [following]\n",
            "--2021-12-29 08:08:27--  https://drive.google.com/uc?export=download&id=1or_QN1ksv81DNog6Tu_kWcZ5jJWf5W9E\n",
            "Resolving drive.google.com (drive.google.com)... 142.250.188.46, 2607:f8b0:4004:835::200e\n",
            "Connecting to drive.google.com (drive.google.com)|142.250.188.46|:443... connected.\n",
            "HTTP request sent, awaiting response... 302 Moved Temporarily\n",
            "Location: https://doc-0c-10-docs.googleusercontent.com/docs/securesc/ha0ro937gcuc7l7deffksulhg5h7mbp1/73pd076fe9jutljkdilr6qcd562lma6o/1640765250000/17946651057176172524/*/1or_QN1ksv81DNog6Tu_kWcZ5jJWf5W9E?e=download [following]\n",
            "Warning: wildcards not supported in HTTP.\n",
            "--2021-12-29 08:08:28--  https://doc-0c-10-docs.googleusercontent.com/docs/securesc/ha0ro937gcuc7l7deffksulhg5h7mbp1/73pd076fe9jutljkdilr6qcd562lma6o/1640765250000/17946651057176172524/*/1or_QN1ksv81DNog6Tu_kWcZ5jJWf5W9E?e=download\n",
            "Resolving doc-0c-10-docs.googleusercontent.com (doc-0c-10-docs.googleusercontent.com)... 172.217.9.193, 2607:f8b0:4004:806::2001\n",
            "Connecting to doc-0c-10-docs.googleusercontent.com (doc-0c-10-docs.googleusercontent.com)|172.217.9.193|:443... connected.\n",
            "HTTP request sent, awaiting response... 200 OK\n",
            "Length: 39208 (38K) [application/zip]\n",
            "Saving to: ‘3gLj0Q6’\n",
            "\n",
            "3gLj0Q6             100%[===================>]  38.29K  --.-KB/s    in 0.007s  \n",
            "\n",
            "2021-12-29 08:08:28 (5.48 MB/s) - ‘3gLj0Q6’ saved [39208/39208]\n",
            "\n"
          ]
        }
      ]
    },
    {
      "cell_type": "markdown",
      "metadata": {
        "id": "J1Is2vFL4cxY"
      },
      "source": [
        "## 실습\n",
        "---\n",
        "`data` 폴더에 있는 `test.csv` 파일과 `train.csv` 파일을 불러와 보세요."
      ]
    },
    {
      "cell_type": "code",
      "metadata": {
        "id": "YdvozqoZ4uhk"
      },
      "source": [
        "import pandas as pd\n",
        "\n",
        "train =pd.read_csv('data/train.csv')\n",
        "test = pd.read_csv('data/test.csv')"
      ],
      "execution_count": 2,
      "outputs": []
    },
    {
      "cell_type": "markdown",
      "metadata": {
        "id": "YLKidTge4gsx"
      },
      "source": [
        "## 정답\n",
        "---\n",
        "스스로 실습 코드를 작성 한 후 정답 코드를 확인해 보세요."
      ]
    },
    {
      "cell_type": "code",
      "metadata": {
        "id": "5z6n7AD7o9UU"
      },
      "source": [
        "import pandas as pd\n",
        "\n",
        "# 정답 코드\n",
        "train = pd.read_csv('data/train.csv') \n",
        "test = pd.read_csv('data/test.csv')"
      ],
      "execution_count": null,
      "outputs": []
    },
    {
      "cell_type": "markdown",
      "metadata": {
        "id": "K8YgC54VtiB7"
      },
      "source": [
        "# [↩️ 리스트로 돌아가기](https://dacon.io/competitions/open/235698/overview/description)"
      ]
    }
  ]
}